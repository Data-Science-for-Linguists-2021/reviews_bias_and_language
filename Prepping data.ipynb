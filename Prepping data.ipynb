{
 "cells": [
  {
   "cell_type": "markdown",
   "id": "internal-sitting",
   "metadata": {},
   "source": [
    "Jordan Picone's project"
   ]
  },
  {
   "cell_type": "code",
   "execution_count": 1,
   "id": "stupid-validation",
   "metadata": {},
   "outputs": [],
   "source": [
    "import json\n",
    "import pandas as pd\n",
    "import nltk\n",
    "import numpy as np\n",
    "import seaborn as sns\n",
    "import matplotlib.pyplot as plt\n",
    "import pickle"
   ]
  },
  {
   "cell_type": "code",
   "execution_count": 2,
   "id": "leading-department",
   "metadata": {},
   "outputs": [],
   "source": [
    "def isRes(ID):\n",
    "        if ID in res_tag:\n",
    "                return True\n",
    "        else:\n",
    "                return False\n",
    "\n",
    "def cuisine(cat):\n",
    "        # finish these up before analysis\n",
    "        # To find these labels I filtered all businesses tagged as restaurants and made a set of \n",
    "        # other tags associated with those restaurants. Out of those 343 I chose the labels manually\n",
    "        american = ['American (New)', 'American', 'American (Traditional)', 'Southern']\n",
    "        middle_east = ['Moroccan', 'Egyptian', 'Middle Eastern', 'Turkish', 'Halal', 'Pakistani', 'Persian/Iranian', 'Arabian',]\n",
    "        latin_america = ['Latin American', 'Peruvian', 'Venezuelan', 'Salvadoran', 'Mexican', 'Brazilian', 'Colombian', 'Puerto Rican']\n",
    "        east_asia = ['Asian', 'Taiwanese', 'Cambodian', 'Izakaya', 'Singaporean', 'Thai', 'Hong Kong Style Cafe', 'Korean', 'Japanese', 'Chinese', 'Laotian', 'Szechuan', 'Cantonese', 'Vietnamese']\n",
    "        if cat == None:\n",
    "            return None\n",
    "        x = cat.split(', ')\n",
    "        for i in x:\n",
    "            if i in middle_east:\n",
    "                return 'me'\n",
    "            if i in american:\n",
    "                return 'am'\n",
    "            if i in latin_america:\n",
    "                return 'la'\n",
    "            if i in east_asia:\n",
    "                return 'as'\n",
    "            else:\n",
    "                return None"
   ]
  },
  {
   "cell_type": "markdown",
   "id": "numerous-temple",
   "metadata": {},
   "source": [
    "Read in businesses and filter out the ones we want"
   ]
  },
  {
   "cell_type": "code",
   "execution_count": 3,
   "id": "thorough-japanese",
   "metadata": {},
   "outputs": [],
   "source": [
    "fn = r'yelp_dataset\\yelp_academic_dataset_business.json'\n",
    "res = pd.read_json(fn, lines=True)\n",
    "res['restaurant'] = res['categories'].map(lambda x: cuisine(x))\n",
    "res = res.dropna()"
   ]
  },
  {
   "cell_type": "code",
   "execution_count": 4,
   "id": "settled-october",
   "metadata": {},
   "outputs": [
    {
     "data": {
      "text/plain": [
       "as    2787\n",
       "am    2327\n",
       "la    1400\n",
       "me     614\n",
       "Name: restaurant, dtype: int64"
      ]
     },
     "execution_count": 4,
     "metadata": {},
     "output_type": "execute_result"
    }
   ],
   "source": [
    "res['restaurant'].value_counts()"
   ]
  },
  {
   "cell_type": "code",
   "execution_count": null,
   "id": "passing-variable",
   "metadata": {},
   "outputs": [],
   "source": []
  },
  {
   "cell_type": "code",
   "execution_count": 5,
   "id": "cosmetic-siemens",
   "metadata": {},
   "outputs": [],
   "source": [
    "res = res.dropna(subset = ['restaurant'])"
   ]
  },
  {
   "cell_type": "code",
   "execution_count": 6,
   "id": "alone-token",
   "metadata": {},
   "outputs": [
    {
     "data": {
      "text/html": [
       "<div>\n",
       "<style scoped>\n",
       "    .dataframe tbody tr th:only-of-type {\n",
       "        vertical-align: middle;\n",
       "    }\n",
       "\n",
       "    .dataframe tbody tr th {\n",
       "        vertical-align: top;\n",
       "    }\n",
       "\n",
       "    .dataframe thead th {\n",
       "        text-align: right;\n",
       "    }\n",
       "</style>\n",
       "<table border=\"1\" class=\"dataframe\">\n",
       "  <thead>\n",
       "    <tr style=\"text-align: right;\">\n",
       "      <th></th>\n",
       "      <th>business_id</th>\n",
       "      <th>name</th>\n",
       "      <th>address</th>\n",
       "      <th>city</th>\n",
       "      <th>state</th>\n",
       "      <th>postal_code</th>\n",
       "      <th>latitude</th>\n",
       "      <th>longitude</th>\n",
       "      <th>stars</th>\n",
       "      <th>review_count</th>\n",
       "      <th>is_open</th>\n",
       "      <th>attributes</th>\n",
       "      <th>categories</th>\n",
       "      <th>hours</th>\n",
       "      <th>restaurant</th>\n",
       "    </tr>\n",
       "  </thead>\n",
       "  <tbody>\n",
       "    <tr>\n",
       "      <th>30</th>\n",
       "      <td>9sRGfSVEfLhN_km60YruTA</td>\n",
       "      <td>Apadana Restaurant</td>\n",
       "      <td>13071 Yonge Street</td>\n",
       "      <td>Richmond Hill</td>\n",
       "      <td>ON</td>\n",
       "      <td>L4E 1A5</td>\n",
       "      <td>43.947011</td>\n",
       "      <td>-79.454862</td>\n",
       "      <td>3.0</td>\n",
       "      <td>3</td>\n",
       "      <td>1</td>\n",
       "      <td>{'Ambience': '{'touristy': False, 'hipster': F...</td>\n",
       "      <td>Persian/Iranian, Turkish, Middle Eastern, Rest...</td>\n",
       "      <td>{'Tuesday': '12:0-21:0', 'Wednesday': '12:0-21...</td>\n",
       "      <td>me</td>\n",
       "    </tr>\n",
       "    <tr>\n",
       "      <th>44</th>\n",
       "      <td>Ga2Bt7xfqoggTypWD5VpoQ</td>\n",
       "      <td>Amando's Bros</td>\n",
       "      <td>2602 W Southern Ave</td>\n",
       "      <td>Tempe</td>\n",
       "      <td>AZ</td>\n",
       "      <td>85282</td>\n",
       "      <td>33.393199</td>\n",
       "      <td>-111.976270</td>\n",
       "      <td>4.0</td>\n",
       "      <td>9</td>\n",
       "      <td>0</td>\n",
       "      <td>{'Caters': 'False', 'RestaurantsGoodForGroups'...</td>\n",
       "      <td>Mexican, Restaurants</td>\n",
       "      <td>{'Monday': '7:0-20:0', 'Tuesday': '7:0-20:0', ...</td>\n",
       "      <td>la</td>\n",
       "    </tr>\n",
       "    <tr>\n",
       "      <th>73</th>\n",
       "      <td>0QjROMVW9ACKjhSEfHqNCQ</td>\n",
       "      <td>Mi Mi Restaurant</td>\n",
       "      <td>688 Gerrard Street E</td>\n",
       "      <td>Toronto</td>\n",
       "      <td>ON</td>\n",
       "      <td>M4M 1Y3</td>\n",
       "      <td>43.666376</td>\n",
       "      <td>-79.348773</td>\n",
       "      <td>4.0</td>\n",
       "      <td>116</td>\n",
       "      <td>1</td>\n",
       "      <td>{'RestaurantsTakeOut': 'True', 'Alcohol': 'u'b...</td>\n",
       "      <td>Vietnamese, Restaurants</td>\n",
       "      <td>{'Monday': '11:0-22:0', 'Tuesday': '11:0-22:0'...</td>\n",
       "      <td>as</td>\n",
       "    </tr>\n",
       "    <tr>\n",
       "      <th>94</th>\n",
       "      <td>Ir_QIzs-4o9ElOtiGuxJrw</td>\n",
       "      <td>Torteria Lupita</td>\n",
       "      <td>4601 Rue Notre-Dame O</td>\n",
       "      <td>Montréal</td>\n",
       "      <td>QC</td>\n",
       "      <td>H4C 1S5</td>\n",
       "      <td>45.473632</td>\n",
       "      <td>-73.588135</td>\n",
       "      <td>4.0</td>\n",
       "      <td>19</td>\n",
       "      <td>0</td>\n",
       "      <td>{'RestaurantsPriceRange2': '2', 'BusinessParki...</td>\n",
       "      <td>Mexican, Sandwiches, Restaurants, Breakfast &amp; ...</td>\n",
       "      <td>{'Tuesday': '12:0-20:0', 'Wednesday': '12:0-20...</td>\n",
       "      <td>la</td>\n",
       "    </tr>\n",
       "    <tr>\n",
       "      <th>137</th>\n",
       "      <td>t749-3jKKDyO8QH3VezUHA</td>\n",
       "      <td>Chao Phraya</td>\n",
       "      <td>50 Avenue Laurier O</td>\n",
       "      <td>Montréal</td>\n",
       "      <td>QC</td>\n",
       "      <td>H2T 2N4</td>\n",
       "      <td>45.522376</td>\n",
       "      <td>-73.593123</td>\n",
       "      <td>3.5</td>\n",
       "      <td>48</td>\n",
       "      <td>0</td>\n",
       "      <td>{'RestaurantsReservations': 'True', 'Ambience'...</td>\n",
       "      <td>Thai, Restaurants</td>\n",
       "      <td>{'Tuesday': '17:0-22:0', 'Wednesday': '17:0-22...</td>\n",
       "      <td>as</td>\n",
       "    </tr>\n",
       "  </tbody>\n",
       "</table>\n",
       "</div>"
      ],
      "text/plain": [
       "                business_id                name                address  \\\n",
       "30   9sRGfSVEfLhN_km60YruTA  Apadana Restaurant     13071 Yonge Street   \n",
       "44   Ga2Bt7xfqoggTypWD5VpoQ       Amando's Bros    2602 W Southern Ave   \n",
       "73   0QjROMVW9ACKjhSEfHqNCQ    Mi Mi Restaurant   688 Gerrard Street E   \n",
       "94   Ir_QIzs-4o9ElOtiGuxJrw     Torteria Lupita  4601 Rue Notre-Dame O   \n",
       "137  t749-3jKKDyO8QH3VezUHA         Chao Phraya    50 Avenue Laurier O   \n",
       "\n",
       "              city state postal_code   latitude   longitude  stars  \\\n",
       "30   Richmond Hill    ON     L4E 1A5  43.947011  -79.454862    3.0   \n",
       "44           Tempe    AZ       85282  33.393199 -111.976270    4.0   \n",
       "73         Toronto    ON     M4M 1Y3  43.666376  -79.348773    4.0   \n",
       "94        Montréal    QC     H4C 1S5  45.473632  -73.588135    4.0   \n",
       "137       Montréal    QC     H2T 2N4  45.522376  -73.593123    3.5   \n",
       "\n",
       "     review_count  is_open                                         attributes  \\\n",
       "30              3        1  {'Ambience': '{'touristy': False, 'hipster': F...   \n",
       "44              9        0  {'Caters': 'False', 'RestaurantsGoodForGroups'...   \n",
       "73            116        1  {'RestaurantsTakeOut': 'True', 'Alcohol': 'u'b...   \n",
       "94             19        0  {'RestaurantsPriceRange2': '2', 'BusinessParki...   \n",
       "137            48        0  {'RestaurantsReservations': 'True', 'Ambience'...   \n",
       "\n",
       "                                            categories  \\\n",
       "30   Persian/Iranian, Turkish, Middle Eastern, Rest...   \n",
       "44                                Mexican, Restaurants   \n",
       "73                             Vietnamese, Restaurants   \n",
       "94   Mexican, Sandwiches, Restaurants, Breakfast & ...   \n",
       "137                                  Thai, Restaurants   \n",
       "\n",
       "                                                 hours restaurant  \n",
       "30   {'Tuesday': '12:0-21:0', 'Wednesday': '12:0-21...         me  \n",
       "44   {'Monday': '7:0-20:0', 'Tuesday': '7:0-20:0', ...         la  \n",
       "73   {'Monday': '11:0-22:0', 'Tuesday': '11:0-22:0'...         as  \n",
       "94   {'Tuesday': '12:0-20:0', 'Wednesday': '12:0-20...         la  \n",
       "137  {'Tuesday': '17:0-22:0', 'Wednesday': '17:0-22...         as  "
      ]
     },
     "execution_count": 6,
     "metadata": {},
     "output_type": "execute_result"
    }
   ],
   "source": [
    "res.head()"
   ]
  },
  {
   "cell_type": "code",
   "execution_count": 7,
   "id": "concerned-dispatch",
   "metadata": {},
   "outputs": [],
   "source": [
    "# read in the reviews\n",
    "fn = r'yelp_dataset\\yelp_academic_dataset_review.json'\n",
    "ChunkSize = 100000\n",
    "# This is a weird way to do it, but it's necessary with such a huge file.\n",
    "for chunk in pd.read_json(fn, chunksize=ChunkSize, lines=True):\n",
    "    df = chunk\n",
    "    break"
   ]
  },
  {
   "cell_type": "code",
   "execution_count": 8,
   "id": "composed-shower",
   "metadata": {},
   "outputs": [
    {
     "data": {
      "text/html": [
       "<div>\n",
       "<style scoped>\n",
       "    .dataframe tbody tr th:only-of-type {\n",
       "        vertical-align: middle;\n",
       "    }\n",
       "\n",
       "    .dataframe tbody tr th {\n",
       "        vertical-align: top;\n",
       "    }\n",
       "\n",
       "    .dataframe thead th {\n",
       "        text-align: right;\n",
       "    }\n",
       "</style>\n",
       "<table border=\"1\" class=\"dataframe\">\n",
       "  <thead>\n",
       "    <tr style=\"text-align: right;\">\n",
       "      <th></th>\n",
       "      <th>business_id</th>\n",
       "      <th>restaurant</th>\n",
       "    </tr>\n",
       "  </thead>\n",
       "  <tbody>\n",
       "    <tr>\n",
       "      <th>30</th>\n",
       "      <td>9sRGfSVEfLhN_km60YruTA</td>\n",
       "      <td>me</td>\n",
       "    </tr>\n",
       "    <tr>\n",
       "      <th>44</th>\n",
       "      <td>Ga2Bt7xfqoggTypWD5VpoQ</td>\n",
       "      <td>la</td>\n",
       "    </tr>\n",
       "    <tr>\n",
       "      <th>73</th>\n",
       "      <td>0QjROMVW9ACKjhSEfHqNCQ</td>\n",
       "      <td>as</td>\n",
       "    </tr>\n",
       "    <tr>\n",
       "      <th>94</th>\n",
       "      <td>Ir_QIzs-4o9ElOtiGuxJrw</td>\n",
       "      <td>la</td>\n",
       "    </tr>\n",
       "    <tr>\n",
       "      <th>137</th>\n",
       "      <td>t749-3jKKDyO8QH3VezUHA</td>\n",
       "      <td>as</td>\n",
       "    </tr>\n",
       "    <tr>\n",
       "      <th>...</th>\n",
       "      <td>...</td>\n",
       "      <td>...</td>\n",
       "    </tr>\n",
       "    <tr>\n",
       "      <th>209315</th>\n",
       "      <td>eUi3O-8Gqh_nJ_ZhO-25gQ</td>\n",
       "      <td>la</td>\n",
       "    </tr>\n",
       "    <tr>\n",
       "      <th>209369</th>\n",
       "      <td>5VXlHFrYZZzj7zfZEsz5nQ</td>\n",
       "      <td>as</td>\n",
       "    </tr>\n",
       "    <tr>\n",
       "      <th>209376</th>\n",
       "      <td>cmsAFAymfVoBitSF8R6GKw</td>\n",
       "      <td>as</td>\n",
       "    </tr>\n",
       "    <tr>\n",
       "      <th>209388</th>\n",
       "      <td>9Q0fPWAjUweoFDk0kafuzQ</td>\n",
       "      <td>as</td>\n",
       "    </tr>\n",
       "    <tr>\n",
       "      <th>209390</th>\n",
       "      <td>SYa2j1boLF8DcGVOYfHPcA</td>\n",
       "      <td>am</td>\n",
       "    </tr>\n",
       "  </tbody>\n",
       "</table>\n",
       "<p>7128 rows × 2 columns</p>\n",
       "</div>"
      ],
      "text/plain": [
       "                   business_id restaurant\n",
       "30      9sRGfSVEfLhN_km60YruTA         me\n",
       "44      Ga2Bt7xfqoggTypWD5VpoQ         la\n",
       "73      0QjROMVW9ACKjhSEfHqNCQ         as\n",
       "94      Ir_QIzs-4o9ElOtiGuxJrw         la\n",
       "137     t749-3jKKDyO8QH3VezUHA         as\n",
       "...                        ...        ...\n",
       "209315  eUi3O-8Gqh_nJ_ZhO-25gQ         la\n",
       "209369  5VXlHFrYZZzj7zfZEsz5nQ         as\n",
       "209376  cmsAFAymfVoBitSF8R6GKw         as\n",
       "209388  9Q0fPWAjUweoFDk0kafuzQ         as\n",
       "209390  SYa2j1boLF8DcGVOYfHPcA         am\n",
       "\n",
       "[7128 rows x 2 columns]"
      ]
     },
     "execution_count": 8,
     "metadata": {},
     "output_type": "execute_result"
    }
   ],
   "source": [
    "res[['business_id', 'restaurant']]"
   ]
  },
  {
   "cell_type": "code",
   "execution_count": 9,
   "id": "manual-assault",
   "metadata": {},
   "outputs": [],
   "source": [
    "df = df.merge(res[['business_id', 'restaurant']], how='left')"
   ]
  },
  {
   "cell_type": "code",
   "execution_count": 10,
   "id": "stock-doctrine",
   "metadata": {},
   "outputs": [
    {
     "data": {
      "text/plain": [
       "11856"
      ]
     },
     "execution_count": 10,
     "metadata": {},
     "output_type": "execute_result"
    }
   ],
   "source": [
    "# narrow this list down to only the restaurants\n",
    "df = df.dropna(subset = ['restaurant'])\n",
    "df.head()\n",
    "len(df)"
   ]
  },
  {
   "cell_type": "code",
   "execution_count": 11,
   "id": "smaller-roberts",
   "metadata": {},
   "outputs": [
    {
     "data": {
      "text/plain": [
       "la    600\n",
       "me    600\n",
       "as    600\n",
       "am    600\n",
       "Name: restaurant, dtype: int64"
      ]
     },
     "execution_count": 11,
     "metadata": {},
     "output_type": "execute_result"
    }
   ],
   "source": [
    "df = df.groupby('restaurant').apply(lambda x: x.sample(600)).reset_index(drop=True)\n",
    "df['restaurant'].value_counts()"
   ]
  },
  {
   "cell_type": "code",
   "execution_count": 12,
   "id": "stable-protein",
   "metadata": {},
   "outputs": [
    {
     "data": {
      "text/html": [
       "<div>\n",
       "<style scoped>\n",
       "    .dataframe tbody tr th:only-of-type {\n",
       "        vertical-align: middle;\n",
       "    }\n",
       "\n",
       "    .dataframe tbody tr th {\n",
       "        vertical-align: top;\n",
       "    }\n",
       "\n",
       "    .dataframe thead th {\n",
       "        text-align: right;\n",
       "    }\n",
       "</style>\n",
       "<table border=\"1\" class=\"dataframe\">\n",
       "  <thead>\n",
       "    <tr style=\"text-align: right;\">\n",
       "      <th></th>\n",
       "      <th>review_id</th>\n",
       "      <th>user_id</th>\n",
       "      <th>business_id</th>\n",
       "      <th>stars</th>\n",
       "      <th>useful</th>\n",
       "      <th>funny</th>\n",
       "      <th>cool</th>\n",
       "      <th>text</th>\n",
       "      <th>date</th>\n",
       "      <th>restaurant</th>\n",
       "    </tr>\n",
       "  </thead>\n",
       "  <tbody>\n",
       "    <tr>\n",
       "      <th>0</th>\n",
       "      <td>FWSYGI7hmAMx2W0hNbrZzQ</td>\n",
       "      <td>QtaGaJ_ygC5aK5dHwLmw7g</td>\n",
       "      <td>DFeEJf8h04q3KwRVWUsoMQ</td>\n",
       "      <td>5</td>\n",
       "      <td>0</td>\n",
       "      <td>0</td>\n",
       "      <td>0</td>\n",
       "      <td>Gave 5 stars for the arcade/gaming area. Alway...</td>\n",
       "      <td>2018-02-12 19:37:29</td>\n",
       "      <td>am</td>\n",
       "    </tr>\n",
       "    <tr>\n",
       "      <th>1</th>\n",
       "      <td>tUUSSuLIegcN00xiyAky2g</td>\n",
       "      <td>Z146DMjYlRbBNB0xRELJXA</td>\n",
       "      <td>woXlprCuowrLJswWere3TQ</td>\n",
       "      <td>5</td>\n",
       "      <td>0</td>\n",
       "      <td>0</td>\n",
       "      <td>0</td>\n",
       "      <td>I went here with a group of friends and it was...</td>\n",
       "      <td>2017-03-15 16:29:49</td>\n",
       "      <td>am</td>\n",
       "    </tr>\n",
       "    <tr>\n",
       "      <th>2</th>\n",
       "      <td>p_JOhaSm3d_SKHTdgHmLkQ</td>\n",
       "      <td>myrcQ3h2G04Gv-ANG_oqrg</td>\n",
       "      <td>N8jmyJCk-LjO9o1K9UjxNA</td>\n",
       "      <td>4</td>\n",
       "      <td>6</td>\n",
       "      <td>2</td>\n",
       "      <td>3</td>\n",
       "      <td>After reading the reviews, I wasn't sure what ...</td>\n",
       "      <td>2011-11-01 23:37:58</td>\n",
       "      <td>am</td>\n",
       "    </tr>\n",
       "    <tr>\n",
       "      <th>3</th>\n",
       "      <td>HsyQssCNevOr4tDPOkQDlQ</td>\n",
       "      <td>kM1oPhJEvvc42upOPQwSkw</td>\n",
       "      <td>yNPh5SO-7wr8HPpVCDPbXQ</td>\n",
       "      <td>5</td>\n",
       "      <td>2</td>\n",
       "      <td>2</td>\n",
       "      <td>3</td>\n",
       "      <td>arrogant [ar-uh-guhnt] adjective \\n1. making c...</td>\n",
       "      <td>2012-09-18 19:24:04</td>\n",
       "      <td>am</td>\n",
       "    </tr>\n",
       "    <tr>\n",
       "      <th>4</th>\n",
       "      <td>z2cNfiLmemGACE_9OOY1rA</td>\n",
       "      <td>m3FleKsUG-1UNqJsJZid9A</td>\n",
       "      <td>XZbuPXdyA0ZtTu3AzqtQhg</td>\n",
       "      <td>5</td>\n",
       "      <td>0</td>\n",
       "      <td>0</td>\n",
       "      <td>0</td>\n",
       "      <td>YumMMmmm.\\n\\nWalking in, I was immediately sur...</td>\n",
       "      <td>2008-04-28 22:03:30</td>\n",
       "      <td>am</td>\n",
       "    </tr>\n",
       "  </tbody>\n",
       "</table>\n",
       "</div>"
      ],
      "text/plain": [
       "                review_id                 user_id             business_id  \\\n",
       "0  FWSYGI7hmAMx2W0hNbrZzQ  QtaGaJ_ygC5aK5dHwLmw7g  DFeEJf8h04q3KwRVWUsoMQ   \n",
       "1  tUUSSuLIegcN00xiyAky2g  Z146DMjYlRbBNB0xRELJXA  woXlprCuowrLJswWere3TQ   \n",
       "2  p_JOhaSm3d_SKHTdgHmLkQ  myrcQ3h2G04Gv-ANG_oqrg  N8jmyJCk-LjO9o1K9UjxNA   \n",
       "3  HsyQssCNevOr4tDPOkQDlQ  kM1oPhJEvvc42upOPQwSkw  yNPh5SO-7wr8HPpVCDPbXQ   \n",
       "4  z2cNfiLmemGACE_9OOY1rA  m3FleKsUG-1UNqJsJZid9A  XZbuPXdyA0ZtTu3AzqtQhg   \n",
       "\n",
       "   stars  useful  funny  cool  \\\n",
       "0      5       0      0     0   \n",
       "1      5       0      0     0   \n",
       "2      4       6      2     3   \n",
       "3      5       2      2     3   \n",
       "4      5       0      0     0   \n",
       "\n",
       "                                                text                date  \\\n",
       "0  Gave 5 stars for the arcade/gaming area. Alway... 2018-02-12 19:37:29   \n",
       "1  I went here with a group of friends and it was... 2017-03-15 16:29:49   \n",
       "2  After reading the reviews, I wasn't sure what ... 2011-11-01 23:37:58   \n",
       "3  arrogant [ar-uh-guhnt] adjective \\n1. making c... 2012-09-18 19:24:04   \n",
       "4  YumMMmmm.\\n\\nWalking in, I was immediately sur... 2008-04-28 22:03:30   \n",
       "\n",
       "  restaurant  \n",
       "0         am  \n",
       "1         am  \n",
       "2         am  \n",
       "3         am  \n",
       "4         am  "
      ]
     },
     "execution_count": 12,
     "metadata": {},
     "output_type": "execute_result"
    }
   ],
   "source": [
    "df.head()"
   ]
  },
  {
   "cell_type": "code",
   "execution_count": 13,
   "id": "present-stack",
   "metadata": {},
   "outputs": [],
   "source": [
    "# the star count is saved as a string, let's make it an integer\n",
    "df['stars'] = df['stars'].map(lambda x: int(x))"
   ]
  },
  {
   "cell_type": "markdown",
   "id": "raised-optics",
   "metadata": {},
   "source": [
    "Since I'm working with individual sentences, I need to break the reviews down. However since each sentence is associated with a review and each review with a business, I need to make a new DF."
   ]
  },
  {
   "cell_type": "code",
   "execution_count": 14,
   "id": "olympic-democrat",
   "metadata": {
    "scrolled": true
   },
   "outputs": [
    {
     "name": "stdout",
     "output_type": "stream",
     "text": [
      "['FWSYGI7hmAMx2W0hNbrZzQ', [['Gave 5 stars for the arcade/gaming area.', 'Always kept clean, bartenders nice and attentive and games kept in order.', \"However, I'd give the restaurant itself 2 stars as we stopped eating there.\", 'Service is incredibly slow all the time- when they have a few tables or only a couple.', 'Last time I had to flag down the host to let the server know we were seated.', \"Then we didn't get our drinks until our food came.\", \"It's not the first, 5th or 10th time we've had bad experiences at the restaurant so we just gave up.\", \"Overall tho Dave and busters is great to go to esp on Wednesday's and for happy hour!\"]], 5, 'am']\n",
      "['FWSYGI7hmAMx2W0hNbrZzQ', [['Gave 5 stars for the arcade/gaming area.', 'Always kept clean, bartenders nice and attentive and games kept in order.', \"However, I'd give the restaurant itself 2 stars as we stopped eating there.\", 'Service is incredibly slow all the time- when they have a few tables or only a couple.', 'Last time I had to flag down the host to let the server know we were seated.', \"Then we didn't get our drinks until our food came.\", \"It's not the first, 5th or 10th time we've had bad experiences at the restaurant so we just gave up.\", \"Overall tho Dave and busters is great to go to esp on Wednesday's and for happy hour!\"]], 5, 'am']\n"
     ]
    }
   ],
   "source": [
    "# adding a tokenized sentence column to the dataframe\n",
    "df['sents'] = df['text'].map(lambda x: nltk.sent_tokenize(x))\n",
    "\n",
    "# building a new datafram from this\n",
    "sent1 = []\n",
    "for i in df['review_id']:\n",
    "\tsent1.append([i, list(df[df['review_id'] == i]['sents']), int(df[df['review_id'] == i]['stars']), str(df[df['review_id'] == i]['restaurant'].values[0])])\n",
    "print(sent1[0])\n",
    "print(sent1[0])\n"
   ]
  },
  {
   "cell_type": "code",
   "execution_count": 15,
   "id": "physical-monroe",
   "metadata": {},
   "outputs": [
    {
     "data": {
      "text/plain": [
       "['FWSYGI7hmAMx2W0hNbrZzQ',\n",
       " [['Gave 5 stars for the arcade/gaming area.',\n",
       "   'Always kept clean, bartenders nice and attentive and games kept in order.',\n",
       "   \"However, I'd give the restaurant itself 2 stars as we stopped eating there.\",\n",
       "   'Service is incredibly slow all the time- when they have a few tables or only a couple.',\n",
       "   'Last time I had to flag down the host to let the server know we were seated.',\n",
       "   \"Then we didn't get our drinks until our food came.\",\n",
       "   \"It's not the first, 5th or 10th time we've had bad experiences at the restaurant so we just gave up.\",\n",
       "   \"Overall tho Dave and busters is great to go to esp on Wednesday's and for happy hour!\"]],\n",
       " 5,\n",
       " 'am']"
      ]
     },
     "execution_count": 15,
     "metadata": {},
     "output_type": "execute_result"
    }
   ],
   "source": [
    "sent1[0]"
   ]
  },
  {
   "cell_type": "code",
   "execution_count": 17,
   "id": "confidential-companion",
   "metadata": {},
   "outputs": [
    {
     "data": {
      "text/plain": [
       "array([], dtype=object)"
      ]
     },
     "execution_count": 17,
     "metadata": {},
     "output_type": "execute_result"
    }
   ],
   "source": [
    "df[df['review_id'] == 'EG2SwUwmv6bimrHpyfxp1A']['restaurant'].values"
   ]
  },
  {
   "cell_type": "code",
   "execution_count": 18,
   "id": "tough-trash",
   "metadata": {},
   "outputs": [
    {
     "data": {
      "text/html": [
       "<div>\n",
       "<style scoped>\n",
       "    .dataframe tbody tr th:only-of-type {\n",
       "        vertical-align: middle;\n",
       "    }\n",
       "\n",
       "    .dataframe tbody tr th {\n",
       "        vertical-align: top;\n",
       "    }\n",
       "\n",
       "    .dataframe thead th {\n",
       "        text-align: right;\n",
       "    }\n",
       "</style>\n",
       "<table border=\"1\" class=\"dataframe\">\n",
       "  <thead>\n",
       "    <tr style=\"text-align: right;\">\n",
       "      <th></th>\n",
       "      <th>review_id</th>\n",
       "      <th>user_id</th>\n",
       "      <th>business_id</th>\n",
       "      <th>stars</th>\n",
       "      <th>useful</th>\n",
       "      <th>funny</th>\n",
       "      <th>cool</th>\n",
       "      <th>text</th>\n",
       "      <th>date</th>\n",
       "      <th>restaurant</th>\n",
       "      <th>sents</th>\n",
       "    </tr>\n",
       "  </thead>\n",
       "  <tbody>\n",
       "    <tr>\n",
       "      <th>0</th>\n",
       "      <td>FWSYGI7hmAMx2W0hNbrZzQ</td>\n",
       "      <td>QtaGaJ_ygC5aK5dHwLmw7g</td>\n",
       "      <td>DFeEJf8h04q3KwRVWUsoMQ</td>\n",
       "      <td>5</td>\n",
       "      <td>0</td>\n",
       "      <td>0</td>\n",
       "      <td>0</td>\n",
       "      <td>Gave 5 stars for the arcade/gaming area. Alway...</td>\n",
       "      <td>2018-02-12 19:37:29</td>\n",
       "      <td>am</td>\n",
       "      <td>[Gave 5 stars for the arcade/gaming area., Alw...</td>\n",
       "    </tr>\n",
       "    <tr>\n",
       "      <th>1</th>\n",
       "      <td>tUUSSuLIegcN00xiyAky2g</td>\n",
       "      <td>Z146DMjYlRbBNB0xRELJXA</td>\n",
       "      <td>woXlprCuowrLJswWere3TQ</td>\n",
       "      <td>5</td>\n",
       "      <td>0</td>\n",
       "      <td>0</td>\n",
       "      <td>0</td>\n",
       "      <td>I went here with a group of friends and it was...</td>\n",
       "      <td>2017-03-15 16:29:49</td>\n",
       "      <td>am</td>\n",
       "      <td>[I went here with a group of friends and it wa...</td>\n",
       "    </tr>\n",
       "    <tr>\n",
       "      <th>2</th>\n",
       "      <td>p_JOhaSm3d_SKHTdgHmLkQ</td>\n",
       "      <td>myrcQ3h2G04Gv-ANG_oqrg</td>\n",
       "      <td>N8jmyJCk-LjO9o1K9UjxNA</td>\n",
       "      <td>4</td>\n",
       "      <td>6</td>\n",
       "      <td>2</td>\n",
       "      <td>3</td>\n",
       "      <td>After reading the reviews, I wasn't sure what ...</td>\n",
       "      <td>2011-11-01 23:37:58</td>\n",
       "      <td>am</td>\n",
       "      <td>[After reading the reviews, I wasn't sure what...</td>\n",
       "    </tr>\n",
       "    <tr>\n",
       "      <th>3</th>\n",
       "      <td>HsyQssCNevOr4tDPOkQDlQ</td>\n",
       "      <td>kM1oPhJEvvc42upOPQwSkw</td>\n",
       "      <td>yNPh5SO-7wr8HPpVCDPbXQ</td>\n",
       "      <td>5</td>\n",
       "      <td>2</td>\n",
       "      <td>2</td>\n",
       "      <td>3</td>\n",
       "      <td>arrogant [ar-uh-guhnt] adjective \\n1. making c...</td>\n",
       "      <td>2012-09-18 19:24:04</td>\n",
       "      <td>am</td>\n",
       "      <td>[arrogant [ar-uh-guhnt] adjective \\n1. making ...</td>\n",
       "    </tr>\n",
       "    <tr>\n",
       "      <th>4</th>\n",
       "      <td>z2cNfiLmemGACE_9OOY1rA</td>\n",
       "      <td>m3FleKsUG-1UNqJsJZid9A</td>\n",
       "      <td>XZbuPXdyA0ZtTu3AzqtQhg</td>\n",
       "      <td>5</td>\n",
       "      <td>0</td>\n",
       "      <td>0</td>\n",
       "      <td>0</td>\n",
       "      <td>YumMMmmm.\\n\\nWalking in, I was immediately sur...</td>\n",
       "      <td>2008-04-28 22:03:30</td>\n",
       "      <td>am</td>\n",
       "      <td>[YumMMmmm., Walking in, I was immediately surp...</td>\n",
       "    </tr>\n",
       "    <tr>\n",
       "      <th>...</th>\n",
       "      <td>...</td>\n",
       "      <td>...</td>\n",
       "      <td>...</td>\n",
       "      <td>...</td>\n",
       "      <td>...</td>\n",
       "      <td>...</td>\n",
       "      <td>...</td>\n",
       "      <td>...</td>\n",
       "      <td>...</td>\n",
       "      <td>...</td>\n",
       "      <td>...</td>\n",
       "    </tr>\n",
       "    <tr>\n",
       "      <th>2395</th>\n",
       "      <td>OMftIymWnJYDlPz3k_3lfg</td>\n",
       "      <td>RUgbe2W5HjtzPgMqkzSW7w</td>\n",
       "      <td>PBmMvDows5HWIqrEVvNfQQ</td>\n",
       "      <td>5</td>\n",
       "      <td>0</td>\n",
       "      <td>0</td>\n",
       "      <td>0</td>\n",
       "      <td>We first visited this restaurant while my daug...</td>\n",
       "      <td>2016-08-15 15:25:06</td>\n",
       "      <td>me</td>\n",
       "      <td>[We first visited this restaurant while my dau...</td>\n",
       "    </tr>\n",
       "    <tr>\n",
       "      <th>2396</th>\n",
       "      <td>zPcYN_WRX5SqriAEfJlI4w</td>\n",
       "      <td>iY4wdIP9aHTXO9zdlShRrQ</td>\n",
       "      <td>ZEZQBsY9mpDjxyXBkvTJMg</td>\n",
       "      <td>1</td>\n",
       "      <td>0</td>\n",
       "      <td>0</td>\n",
       "      <td>0</td>\n",
       "      <td>Zero stars. Booked my brithday here. The waite...</td>\n",
       "      <td>2017-11-19 07:33:52</td>\n",
       "      <td>me</td>\n",
       "      <td>[Zero stars., Booked my brithday here., The wa...</td>\n",
       "    </tr>\n",
       "    <tr>\n",
       "      <th>2397</th>\n",
       "      <td>x1SfZiFeBFVqBj_IQc_iaA</td>\n",
       "      <td>YfHqK8FFv4tnKlLffvdYdw</td>\n",
       "      <td>ICUCAzUZFiWkYs7iCtNCQg</td>\n",
       "      <td>5</td>\n",
       "      <td>0</td>\n",
       "      <td>0</td>\n",
       "      <td>0</td>\n",
       "      <td>First time here after hearing such great raves...</td>\n",
       "      <td>2015-03-08 03:09:56</td>\n",
       "      <td>me</td>\n",
       "      <td>[First time here after hearing such great rave...</td>\n",
       "    </tr>\n",
       "    <tr>\n",
       "      <th>2398</th>\n",
       "      <td>YbK1Toa7BjRJqxZpq5Egdg</td>\n",
       "      <td>reBgsXwB2c73uvLEhs5THg</td>\n",
       "      <td>SMNZS7w9Blmc8TOUZ4oqYg</td>\n",
       "      <td>5</td>\n",
       "      <td>1</td>\n",
       "      <td>0</td>\n",
       "      <td>0</td>\n",
       "      <td>Great offering for a nice healthy meal.  Frien...</td>\n",
       "      <td>2015-11-20 19:42:12</td>\n",
       "      <td>me</td>\n",
       "      <td>[Great offering for a nice healthy meal., Frie...</td>\n",
       "    </tr>\n",
       "    <tr>\n",
       "      <th>2399</th>\n",
       "      <td>oOAIs5qScz96FYR9tjBQ7Q</td>\n",
       "      <td>RKWl8sV1tdT_qPZnGe23kw</td>\n",
       "      <td>SMNZS7w9Blmc8TOUZ4oqYg</td>\n",
       "      <td>4</td>\n",
       "      <td>0</td>\n",
       "      <td>0</td>\n",
       "      <td>0</td>\n",
       "      <td>I love coming here. As others said, it's simil...</td>\n",
       "      <td>2015-12-25 12:24:48</td>\n",
       "      <td>me</td>\n",
       "      <td>[I love coming here., As others said, it's sim...</td>\n",
       "    </tr>\n",
       "  </tbody>\n",
       "</table>\n",
       "<p>2400 rows × 11 columns</p>\n",
       "</div>"
      ],
      "text/plain": [
       "                   review_id                 user_id             business_id  \\\n",
       "0     FWSYGI7hmAMx2W0hNbrZzQ  QtaGaJ_ygC5aK5dHwLmw7g  DFeEJf8h04q3KwRVWUsoMQ   \n",
       "1     tUUSSuLIegcN00xiyAky2g  Z146DMjYlRbBNB0xRELJXA  woXlprCuowrLJswWere3TQ   \n",
       "2     p_JOhaSm3d_SKHTdgHmLkQ  myrcQ3h2G04Gv-ANG_oqrg  N8jmyJCk-LjO9o1K9UjxNA   \n",
       "3     HsyQssCNevOr4tDPOkQDlQ  kM1oPhJEvvc42upOPQwSkw  yNPh5SO-7wr8HPpVCDPbXQ   \n",
       "4     z2cNfiLmemGACE_9OOY1rA  m3FleKsUG-1UNqJsJZid9A  XZbuPXdyA0ZtTu3AzqtQhg   \n",
       "...                      ...                     ...                     ...   \n",
       "2395  OMftIymWnJYDlPz3k_3lfg  RUgbe2W5HjtzPgMqkzSW7w  PBmMvDows5HWIqrEVvNfQQ   \n",
       "2396  zPcYN_WRX5SqriAEfJlI4w  iY4wdIP9aHTXO9zdlShRrQ  ZEZQBsY9mpDjxyXBkvTJMg   \n",
       "2397  x1SfZiFeBFVqBj_IQc_iaA  YfHqK8FFv4tnKlLffvdYdw  ICUCAzUZFiWkYs7iCtNCQg   \n",
       "2398  YbK1Toa7BjRJqxZpq5Egdg  reBgsXwB2c73uvLEhs5THg  SMNZS7w9Blmc8TOUZ4oqYg   \n",
       "2399  oOAIs5qScz96FYR9tjBQ7Q  RKWl8sV1tdT_qPZnGe23kw  SMNZS7w9Blmc8TOUZ4oqYg   \n",
       "\n",
       "      stars  useful  funny  cool  \\\n",
       "0         5       0      0     0   \n",
       "1         5       0      0     0   \n",
       "2         4       6      2     3   \n",
       "3         5       2      2     3   \n",
       "4         5       0      0     0   \n",
       "...     ...     ...    ...   ...   \n",
       "2395      5       0      0     0   \n",
       "2396      1       0      0     0   \n",
       "2397      5       0      0     0   \n",
       "2398      5       1      0     0   \n",
       "2399      4       0      0     0   \n",
       "\n",
       "                                                   text                date  \\\n",
       "0     Gave 5 stars for the arcade/gaming area. Alway... 2018-02-12 19:37:29   \n",
       "1     I went here with a group of friends and it was... 2017-03-15 16:29:49   \n",
       "2     After reading the reviews, I wasn't sure what ... 2011-11-01 23:37:58   \n",
       "3     arrogant [ar-uh-guhnt] adjective \\n1. making c... 2012-09-18 19:24:04   \n",
       "4     YumMMmmm.\\n\\nWalking in, I was immediately sur... 2008-04-28 22:03:30   \n",
       "...                                                 ...                 ...   \n",
       "2395  We first visited this restaurant while my daug... 2016-08-15 15:25:06   \n",
       "2396  Zero stars. Booked my brithday here. The waite... 2017-11-19 07:33:52   \n",
       "2397  First time here after hearing such great raves... 2015-03-08 03:09:56   \n",
       "2398  Great offering for a nice healthy meal.  Frien... 2015-11-20 19:42:12   \n",
       "2399  I love coming here. As others said, it's simil... 2015-12-25 12:24:48   \n",
       "\n",
       "     restaurant                                              sents  \n",
       "0            am  [Gave 5 stars for the arcade/gaming area., Alw...  \n",
       "1            am  [I went here with a group of friends and it wa...  \n",
       "2            am  [After reading the reviews, I wasn't sure what...  \n",
       "3            am  [arrogant [ar-uh-guhnt] adjective \\n1. making ...  \n",
       "4            am  [YumMMmmm., Walking in, I was immediately surp...  \n",
       "...         ...                                                ...  \n",
       "2395         me  [We first visited this restaurant while my dau...  \n",
       "2396         me  [Zero stars., Booked my brithday here., The wa...  \n",
       "2397         me  [First time here after hearing such great rave...  \n",
       "2398         me  [Great offering for a nice healthy meal., Frie...  \n",
       "2399         me  [I love coming here., As others said, it's sim...  \n",
       "\n",
       "[2400 rows x 11 columns]"
      ]
     },
     "execution_count": 18,
     "metadata": {},
     "output_type": "execute_result"
    }
   ],
   "source": [
    "df"
   ]
  },
  {
   "cell_type": "code",
   "execution_count": 40,
   "id": "second-numbers",
   "metadata": {},
   "outputs": [],
   "source": [
    "sent2 = []\n",
    "\n",
    "for i in sent1:\n",
    "    counter = 1\n",
    "    stars = i[2]\n",
    "    ID = i[0]\n",
    "    res = i[3]\n",
    "    for x in i[1][0]:\n",
    "        #print([ID, counter, x, stars])\n",
    "        sent2.append([ID, counter, x, stars, res])\n",
    "        counter = counter + 1\n",
    "\n",
    "sent_df = pd.DataFrame(sent2)"
   ]
  },
  {
   "cell_type": "code",
   "execution_count": 41,
   "id": "great-technician",
   "metadata": {},
   "outputs": [
    {
     "name": "stdout",
     "output_type": "stream",
     "text": [
      "['FWSYGI7hmAMx2W0hNbrZzQ', 1, 'Gave 5 stars for the arcade/gaming area.', 5, 'am']\n"
     ]
    }
   ],
   "source": [
    "print(sent2[0])"
   ]
  },
  {
   "cell_type": "code",
   "execution_count": 42,
   "id": "charged-fishing",
   "metadata": {},
   "outputs": [
    {
     "name": "stdout",
     "output_type": "stream",
     "text": [
      "[['Gave 5 stars for the arcade/gaming area.', 'Always kept clean, bartenders nice and attentive and games kept in order.', \"However, I'd give the restaurant itself 2 stars as we stopped eating there.\", 'Service is incredibly slow all the time- when they have a few tables or only a couple.', 'Last time I had to flag down the host to let the server know we were seated.', \"Then we didn't get our drinks until our food came.\", \"It's not the first, 5th or 10th time we've had bad experiences at the restaurant so we just gave up.\", \"Overall tho Dave and busters is great to go to esp on Wednesday's and for happy hour!\"]]\n"
     ]
    }
   ],
   "source": [
    "print(sent1[0][1])"
   ]
  },
  {
   "cell_type": "code",
   "execution_count": 43,
   "id": "numerous-pathology",
   "metadata": {},
   "outputs": [],
   "source": [
    "#sent_df['tokenized'] = sent_df[2].map(lambda x: nltk.word_tokenize(x))"
   ]
  },
  {
   "cell_type": "code",
   "execution_count": 44,
   "id": "golden-crawford",
   "metadata": {},
   "outputs": [],
   "source": [
    "sent_df.columns = ['id', 'sent', 'text', 'stars', 'cuisine']"
   ]
  },
  {
   "cell_type": "markdown",
   "id": "juvenile-preservation",
   "metadata": {},
   "source": [
    "Testing classification on the sentences"
   ]
  },
  {
   "cell_type": "code",
   "execution_count": 45,
   "id": "resistant-coast",
   "metadata": {},
   "outputs": [
    {
     "data": {
      "text/plain": [
       "18514"
      ]
     },
     "execution_count": 45,
     "metadata": {},
     "output_type": "execute_result"
    }
   ],
   "source": [
    "len(sent_df)"
   ]
  },
  {
   "cell_type": "code",
   "execution_count": 46,
   "id": "gross-forest",
   "metadata": {},
   "outputs": [
    {
     "data": {
      "text/plain": [
       "[['We are from States.',\n",
       "  'My whole family tried butter chicken,Nihari, chicken shish Kabab and the biryani on special - 2 for $10 and kheer for dessert.',\n",
       "  'They gave us an amazing customer service and the food was delicious.',\n",
       "  'I highly recommend to try it!']]"
      ]
     },
     "execution_count": 46,
     "metadata": {},
     "output_type": "execute_result"
    }
   ],
   "source": [
    "list(df[df['review_id'] == '8zKt_j1KmxVs3aq_LVeVmg']['sents'])"
   ]
  },
  {
   "cell_type": "code",
   "execution_count": 47,
   "id": "crazy-doctor",
   "metadata": {},
   "outputs": [],
   "source": [
    "sent_df.to_csv(r'sents.csv')"
   ]
  },
  {
   "cell_type": "code",
   "execution_count": 53,
   "id": "rapid-inspection",
   "metadata": {},
   "outputs": [],
   "source": [
    "sent_train = sent_df.groupby('cuisine').apply(lambda x: x.sample(500, random_state=0)).reset_index(drop=True)\n"
   ]
  },
  {
   "cell_type": "code",
   "execution_count": 54,
   "id": "annoying-experience",
   "metadata": {},
   "outputs": [
    {
     "data": {
      "text/plain": [
       "la    500\n",
       "me    500\n",
       "as    500\n",
       "am    500\n",
       "Name: cuisine, dtype: int64"
      ]
     },
     "execution_count": 54,
     "metadata": {},
     "output_type": "execute_result"
    }
   ],
   "source": [
    "sent_train.cuisine.value_counts()"
   ]
  },
  {
   "cell_type": "code",
   "execution_count": 58,
   "id": "cloudy-trail",
   "metadata": {},
   "outputs": [],
   "source": [
    "sent_train.to_csv(r'sent_train.csv') "
   ]
  },
  {
   "cell_type": "code",
   "execution_count": 59,
   "id": "cognitive-doubt",
   "metadata": {},
   "outputs": [
    {
     "data": {
      "text/html": [
       "<div>\n",
       "<style scoped>\n",
       "    .dataframe tbody tr th:only-of-type {\n",
       "        vertical-align: middle;\n",
       "    }\n",
       "\n",
       "    .dataframe tbody tr th {\n",
       "        vertical-align: top;\n",
       "    }\n",
       "\n",
       "    .dataframe thead th {\n",
       "        text-align: right;\n",
       "    }\n",
       "</style>\n",
       "<table border=\"1\" class=\"dataframe\">\n",
       "  <thead>\n",
       "    <tr style=\"text-align: right;\">\n",
       "      <th></th>\n",
       "      <th>id</th>\n",
       "      <th>sent</th>\n",
       "      <th>text</th>\n",
       "      <th>stars</th>\n",
       "      <th>cuisine</th>\n",
       "    </tr>\n",
       "  </thead>\n",
       "  <tbody>\n",
       "    <tr>\n",
       "      <th>0</th>\n",
       "      <td>6Z4LXZoqY2Rp9LwCL2JWXA</td>\n",
       "      <td>2</td>\n",
       "      <td>We rely on the Cafe quite often after being ou...</td>\n",
       "      <td>4</td>\n",
       "      <td>am</td>\n",
       "    </tr>\n",
       "    <tr>\n",
       "      <th>1</th>\n",
       "      <td>S2JET8wLWLAga20TNDlo_w</td>\n",
       "      <td>5</td>\n",
       "      <td>The burgers are smaller in size compared to mo...</td>\n",
       "      <td>5</td>\n",
       "      <td>am</td>\n",
       "    </tr>\n",
       "    <tr>\n",
       "      <th>2</th>\n",
       "      <td>drTTGIHuUNIi9_zAg20mtg</td>\n",
       "      <td>20</td>\n",
       "      <td>The New York Strip was wonderfully tender and ...</td>\n",
       "      <td>4</td>\n",
       "      <td>am</td>\n",
       "    </tr>\n",
       "    <tr>\n",
       "      <th>3</th>\n",
       "      <td>HqwD-VEjL46jGf168ZAeBg</td>\n",
       "      <td>11</td>\n",
       "      <td>My friend had the soft pretzels and she said t...</td>\n",
       "      <td>4</td>\n",
       "      <td>am</td>\n",
       "    </tr>\n",
       "    <tr>\n",
       "      <th>4</th>\n",
       "      <td>KYMi6XViKYHA3ISM9MKwxg</td>\n",
       "      <td>3</td>\n",
       "      <td>I have never eaten here though but would do we...</td>\n",
       "      <td>3</td>\n",
       "      <td>am</td>\n",
       "    </tr>\n",
       "    <tr>\n",
       "      <th>...</th>\n",
       "      <td>...</td>\n",
       "      <td>...</td>\n",
       "      <td>...</td>\n",
       "      <td>...</td>\n",
       "      <td>...</td>\n",
       "    </tr>\n",
       "    <tr>\n",
       "      <th>1995</th>\n",
       "      <td>cIei1tLnaw0WbHtOlP5Ong</td>\n",
       "      <td>3</td>\n",
       "      <td>The food is still delicious.</td>\n",
       "      <td>5</td>\n",
       "      <td>me</td>\n",
       "    </tr>\n",
       "    <tr>\n",
       "      <th>1996</th>\n",
       "      <td>GIEYMKx8kcNk_nAnlXCHwQ</td>\n",
       "      <td>4</td>\n",
       "      <td>although they some times have music, but still...</td>\n",
       "      <td>3</td>\n",
       "      <td>me</td>\n",
       "    </tr>\n",
       "    <tr>\n",
       "      <th>1997</th>\n",
       "      <td>reqq8ufZiz6jxssHXIf34w</td>\n",
       "      <td>25</td>\n",
       "      <td>OMG.</td>\n",
       "      <td>4</td>\n",
       "      <td>me</td>\n",
       "    </tr>\n",
       "    <tr>\n",
       "      <th>1998</th>\n",
       "      <td>cKwuT_KaM4eDskOMk_ln4Q</td>\n",
       "      <td>1</td>\n",
       "      <td>This place is awful.</td>\n",
       "      <td>1</td>\n",
       "      <td>me</td>\n",
       "    </tr>\n",
       "    <tr>\n",
       "      <th>1999</th>\n",
       "      <td>xkHWn45odal3A9kDOweYgQ</td>\n",
       "      <td>4</td>\n",
       "      <td>We both got an order of the lunch special of c...</td>\n",
       "      <td>4</td>\n",
       "      <td>me</td>\n",
       "    </tr>\n",
       "  </tbody>\n",
       "</table>\n",
       "<p>2000 rows × 5 columns</p>\n",
       "</div>"
      ],
      "text/plain": [
       "                          id  sent  \\\n",
       "0     6Z4LXZoqY2Rp9LwCL2JWXA     2   \n",
       "1     S2JET8wLWLAga20TNDlo_w     5   \n",
       "2     drTTGIHuUNIi9_zAg20mtg    20   \n",
       "3     HqwD-VEjL46jGf168ZAeBg    11   \n",
       "4     KYMi6XViKYHA3ISM9MKwxg     3   \n",
       "...                      ...   ...   \n",
       "1995  cIei1tLnaw0WbHtOlP5Ong     3   \n",
       "1996  GIEYMKx8kcNk_nAnlXCHwQ     4   \n",
       "1997  reqq8ufZiz6jxssHXIf34w    25   \n",
       "1998  cKwuT_KaM4eDskOMk_ln4Q     1   \n",
       "1999  xkHWn45odal3A9kDOweYgQ     4   \n",
       "\n",
       "                                                   text  stars cuisine  \n",
       "0     We rely on the Cafe quite often after being ou...      4      am  \n",
       "1     The burgers are smaller in size compared to mo...      5      am  \n",
       "2     The New York Strip was wonderfully tender and ...      4      am  \n",
       "3     My friend had the soft pretzels and she said t...      4      am  \n",
       "4     I have never eaten here though but would do we...      3      am  \n",
       "...                                                 ...    ...     ...  \n",
       "1995                       The food is still delicious.      5      me  \n",
       "1996  although they some times have music, but still...      3      me  \n",
       "1997                                               OMG.      4      me  \n",
       "1998                               This place is awful.      1      me  \n",
       "1999  We both got an order of the lunch special of c...      4      me  \n",
       "\n",
       "[2000 rows x 5 columns]"
      ]
     },
     "execution_count": 59,
     "metadata": {},
     "output_type": "execute_result"
    }
   ],
   "source": [
    "#sent_train"
   ]
  },
  {
   "cell_type": "markdown",
   "id": "timely-constitutional",
   "metadata": {},
   "source": [
    "Annotation guidelines for 'About'\n",
    "\n",
    "food - 'fd'\n",
    "\n",
    "service = 'sv'\n",
    "\n",
    "atmosphere = 'at'\n",
    "\n",
    "other = None\n",
    "\n",
    "multiple = 'mt'"
   ]
  },
  {
   "cell_type": "code",
   "execution_count": null,
   "id": "addressed-bailey",
   "metadata": {},
   "outputs": [],
   "source": []
  },
  {
   "cell_type": "code",
   "execution_count": null,
   "id": "vital-syracuse",
   "metadata": {},
   "outputs": [],
   "source": []
  }
 ],
 "metadata": {
  "kernelspec": {
   "display_name": "Python 3",
   "language": "python",
   "name": "python3"
  },
  "language_info": {
   "codemirror_mode": {
    "name": "ipython",
    "version": 3
   },
   "file_extension": ".py",
   "mimetype": "text/x-python",
   "name": "python",
   "nbconvert_exporter": "python",
   "pygments_lexer": "ipython3",
   "version": "3.9.2"
  }
 },
 "nbformat": 4,
 "nbformat_minor": 5
}
